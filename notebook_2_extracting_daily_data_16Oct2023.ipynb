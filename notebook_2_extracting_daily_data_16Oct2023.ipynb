{
    "metadata": {
        "kernelspec": {
            "name": "python3",
            "display_name": "Python 3 (ipykernel)",
            "language": "python"
        }
    },
    "nbformat": 4,
    "nbformat_minor": 4,
    "cells": [
        {
            "attachments": {},
            "cell_type": "markdown",
            "metadata": {},
            "source": [
                "# **Notebook 2 - Daily data extraction for each site**"
            ]
        },
        {
            "attachments": {},
            "cell_type": "markdown",
            "metadata": {},
            "source": [
                "## **Part 1 - Extract daily data**\n",
                "After the preliminary analyses, we move on and look into the daily data from the **BioGeoChemical models (Baseline: GBR4_H2p0_B3p1_Cq3b_Dhnd; Pre-industrial: GBR4_H2p0_B3p1_Cq3P_Dhnd)** to see how the seagrass biomass changed in the period of flooding.\n",
                "\n",
                "We have removed variables after the preliminary analyses and retained two seagrass parameters and four environmental variables:\n",
                "\n",
                "- \u003cfont color=#6bf51b\u003e**SG_N**\u003c/font\u003e: nitrogen biomass of *Zostera* species\n",
                "- \u003cfont color=#5cbd24\u003e**SGH_N**\u003c/font\u003e: nitrogen biomass of *Halophila* species\n",
                "- **temp**: temperature \n",
                "- **salt**: salinity\n",
                "- **FineSed**: fine sediment/ turbidity\n",
                "- **DIN**: Dissolved Inorganic Nitrogen \n",
                ""
            ]
        },
        {
            "attachments": {},
            "cell_type": "markdown",
            "metadata": {},
            "source": [
                "___ "
            ]
        },
        {
            "attachments": {},
            "cell_type": "markdown",
            "metadata": {},
            "source": [
                "### **Import library**"
            ]
        },
        {
            "cell_type": "code",
            "execution_count": 3,
            "metadata": {},
            "outputs": [],
            "source": [
                "import os\n",
                "import scipy\n",
                "import numpy as np\n",
                "import pandas as pd\n",
                "import xarray as xr\n",
                "from scipy import stats\n",
                "from scipy.spatial import cKDTree\n",
                "\n",
                "import io\n",
                "import requests\n",
                "\n",
                "import urllib.request\n",
                "import datetime as dt\n",
                "from dateutil.relativedelta import *\n",
                "\n",
                "import netCDF4\n",
                "from netCDF4 import Dataset, num2date\n",
                "\n",
                "import seaborn as sns\n",
                "import pymannkendall as mk\n",
                "\n",
                "import warnings\n",
                "warnings.simplefilter('ignore')\n",
                "\n",
                "from matplotlib import pyplot as plt\n",
                "%matplotlib inline\n",
                "\n",
                "plt.rcParams['figure.figsize'] = (12,7)\n",
                ""
            ]
        },
        {
            "attachments": {},
            "cell_type": "markdown",
            "metadata": {},
            "source": [
                "___ "
            ]
        },
        {
            "attachments": {},
            "cell_type": "markdown",
            "metadata": {},
            "source": [
                "### **Extract Data from AIMS eReefs THREDDS Server**"
            ]
        },
        {
            "cell_type": "code",
            "execution_count": 23,
            "metadata": {},
            "outputs": [],
            "source": [
                "## provide baseline model path (Cq3b)\n",
                "baseline_path_daily = 'https://thredds.ereefs.aims.gov.au/thredds/dodsC/GBR4_H2p0_B3p1_Cq3b_Dhnd/daily.nc'\n",
                "baseline_data_daily = xr.open_dataset(baseline_path_daily)\n",
                "\n",
                "## provide preindustrial model path (Cq3P)\n",
                "preindustrial_path_daily = 'https://thredds.ereefs.aims.gov.au/thredds/dodsC/GBR4_H2p0_B3p1_Cq3P_Dhnd/daily.nc'\n",
                "preindustrial_data_daily = xr.open_dataset(preindustrial_path_daily)\n",
                "\n",
                "variables = [\n",
                "    'temp',       # temperature\n",
                "    'salt',       # salinity\n",
                "    'DIN',        # Dissolved Inorganic Nitrogen\n",
                "    'FineSed',   # The turbidity of a water body\n",
                "    'SG_N',       # Seagrass nitrogen\n",
                "    'SGH_N',      # Halophila nitrogen\n",
                "]\n",
                "\n",
                "\n",
                "## extract the wanted variables and choose only the top layer\n",
                "baseline_data = baseline_data_daily[variables].isel(k=-1).drop('zc')\n",
                "baseline_data\n",
                "\n",
                "preindustrial_data = preindustrial_data_daily[variables].isel(k=-1).drop('zc')\n",
                "preindustrial_data"
            ]
        },
        {
            "attachments": {},
            "cell_type": "markdown",
            "metadata": {},
            "source": [
                "---\n",
                "---"
            ]
        },
        {
            "attachments": {},
            "cell_type": "markdown",
            "metadata": {},
            "source": [
                "## **Part 2 - Saving extracted daily data**\n",
                "See Reference: https://stackoverflow.com/questions/29135885/netcdf4-extract-for-subset-of-lat-lon"
            ]
        },
        {
            "attachments": {},
            "cell_type": "markdown",
            "metadata": {},
            "source": [
                "**Baseline - Daily (2012-2014) - Cleveland Bay**"
            ]
        },
        {
            "cell_type": "code",
            "execution_count": 4,
            "metadata": {
                "scrolled": true
            },
            "outputs": [],
            "source": [
                "## for Site covering the Cleveland Bay\n",
                "lat_bounds, lon_bounds = [ -19.3, -19.1 ], [ 146.8 , 147 ]  # note that the range goes from small to large or you get nothing LOL\n",
                "data_Cleveland_Bay = data.sel(latitude=slice(*lat_bounds), longitude=slice(*lon_bounds))\n",
                "\n",
                "## 2012 data\n",
                "data_Cleveland_Bay_flooding_period = data_Cleveland_Bay.sel(time=slice('2012-01-01', '2012-12-31'))\n",
                "data_Cleveland_Bay_flooding_period.to_netcdf(\"baseline_data_Cleveland_Bay_flooding_period_6_parameters_2012.nc\")\n",
                "\n",
                "## 2013 data\n",
                "data_Cleveland_Bay_flooding_period = data_Cleveland_Bay.sel(time=slice('2013-01-01', '2013-12-31'))\n",
                "data_Cleveland_Bay_flooding_period.to_netcdf(\"baseline_data_Cleveland_Bay_flooding_period_6_parameters_2013.nc\")\n",
                "\n",
                "## 2014 data\n",
                "data_Cleveland_Bay_flooding_period = data_Cleveland_Bay.sel(time=slice('2014-01-01', '2014-12-31'))\n",
                "data_Cleveland_Bay_flooding_period.to_netcdf(\"baseline_data_Cleveland_Bay_flooding_period_6_parameters_2014.nc\")"
            ]
        },
        {
            "attachments": {},
            "cell_type": "markdown",
            "metadata": {},
            "source": [
                "**Preindustrial - Daily (2012-2014) - Cleveland Bay**"
            ]
        },
        {
            "cell_type": "code",
            "execution_count": 9,
            "metadata": {},
            "outputs": [],
            "source": [
                "## for Site covering the Cleveland Bay\n",
                "lat_bounds, lon_bounds = [ -19.3, -19.1 ], [ 146.8 , 147 ]  # note that the range goes from small to large or you get nothing LOL\n",
                "preindustrial_data_Cleveland_Bay = preindustrial_data.sel(latitude=slice(*lat_bounds), longitude=slice(*lon_bounds))\n",
                "\n",
                "## 2012 data\n",
                "preindustrial_data_Cleveland_Bay_flooding_period = preindustrial_data_Cleveland_Bay.sel(time=slice('2012-01-01', '2012-12-31'))\n",
                "preindustrial_data_Cleveland_Bay_flooding_period.to_netcdf(\"preindustrial_data_Cleveland_Bay_flooding_period_6_parameters_2012.nc\")\n",
                "\n",
                "## 2013 data\n",
                "preindustrial_data_Cleveland_Bay_flooding_period = preindustrial_data_Cleveland_Bay.sel(time=slice('2013-01-01', '2013-12-31'))\n",
                "preindustrial_data_Cleveland_Bay_flooding_period.to_netcdf(\"preindustrial_data_Cleveland_Bay_flooding_period_6_parameters_2013.nc\")\n",
                "\n",
                "## 2014 data\n",
                "preindustrial_data_Cleveland_Bay_flooding_period = preindustrial_data_Cleveland_Bay.sel(time=slice('2014-01-01', '2014-12-31'))\n",
                "preindustrial_data_Cleveland_Bay_flooding_period.to_netcdf(\"preindustrial_data_Cleveland_Bay_flooding_period_6_parameters_2014.nc\")"
            ]
        },
        {
            "attachments": {},
            "cell_type": "markdown",
            "metadata": {},
            "source": [
                "---"
            ]
        },
        {
            "attachments": {},
            "cell_type": "markdown",
            "metadata": {},
            "source": [
                "**Baseline - Daily (2012-2014) - Upstart Bay**"
            ]
        },
        {
            "cell_type": "code",
            "execution_count": 5,
            "metadata": {},
            "outputs": [],
            "source": [
                "## for Site covering the Upstart Bay\n",
                "lat_bounds, lon_bounds = [ -19.85 , -19.7 ], [ 147.55 , 147.75 ]  # note that the range goes from small to large or you get nothing LOL\n",
                "data_Upstart_Bay = data.sel(latitude=slice(*lat_bounds), longitude=slice(*lon_bounds))\n",
                "\n",
                "## 2012 data\n",
                "data_Upstart_Bay_flooding_period = data_Upstart_Bay.sel(time=slice('2012-01-01', '2012-12-31'))\n",
                "data_Upstart_Bay_flooding_period.to_netcdf(\"baseline_data_Upstart_Bay_flooding_period_6_parameters_2012.nc\")\n",
                "\n",
                "## 2013 data\n",
                "data_Upstart_Bay_flooding_period = data_Upstart_Bay.sel(time=slice('2013-01-01', '2013-12-31'))\n",
                "data_Upstart_Bay_flooding_period.to_netcdf(\"baseline_data_Upstart_Bay_flooding_period_6_parameters_2013.nc\")\n",
                "\n",
                "## 2014 data\n",
                "data_Upstart_Bay_flooding_period = data_Upstart_Bay.sel(time=slice('2014-01-01', '2014-12-31'))\n",
                "data_Upstart_Bay_flooding_period.to_netcdf(\"baseline_data_Upstart_Bay_flooding_period_6_parameters_2014.nc\")"
            ]
        },
        {
            "attachments": {},
            "cell_type": "markdown",
            "metadata": {},
            "source": [
                "**Preindustrial - Daily (2012-2014) - Upstart Bay**"
            ]
        },
        {
            "cell_type": "code",
            "execution_count": 17,
            "metadata": {},
            "outputs": [],
            "source": [
                "## for Site covering the Upstart Bay\n",
                "lat_bounds, lon_bounds = [ -19.85 , -19.7 ], [ 147.55 , 147.75 ]  # note that the range goes from small to large or you get nothing LOL\n",
                "preindustrial_data_Upstart_Bay = preindustrial_data.sel(latitude=slice(*lat_bounds), longitude=slice(*lon_bounds))\n",
                "\n",
                "## 2012 data\n",
                "preindustrial_data_Upstart_Bay_flooding_period = preindustrial_data_Upstart_Bay.sel(time=slice('2012-01-01', '2012-12-31'))\n",
                "preindustrial_data_Upstart_Bay_flooding_period.load().to_netcdf(\"preindustrial_data_Upstart_Bay_flooding_period_6_parameters_2012.nc\")\n",
                "\n",
                "## 2013 data\n",
                "preindustrial_data_Upstart_Bay_flooding_period = preindustrial_data_Upstart_Bay.sel(time=slice('2013-01-01', '2013-12-31'))\n",
                "preindustrial_data_Upstart_Bay_flooding_period.load().to_netcdf(\"preindustrial_data_Upstart_Bay_flooding_period_6_parameters_2013.nc\")\n",
                "\n",
                "## 2014 data\n",
                "preindustrial_data_Upstart_Bay_flooding_period = preindustrial_data_Upstart_Bay.sel(time=slice('2014-01-01', '2014-12-31'))\n",
                "preindustrial_data_Upstart_Bay_flooding_period.load().to_netcdf(\"preindustrial_data_Upstart_Bay_flooding_period_6_parameters_2014.nc\")"
            ]
        },
        {
            "attachments": {},
            "cell_type": "markdown",
            "metadata": {},
            "source": [
                "---"
            ]
        },
        {
            "attachments": {},
            "cell_type": "markdown",
            "metadata": {},
            "source": [
                "**Baseline - Daily (2012-2014) - Gladstone**"
            ]
        },
        {
            "cell_type": "code",
            "execution_count": 9,
            "metadata": {},
            "outputs": [],
            "source": [
                "## for Site covering the Gladstone, Calliope River\n",
                "lat_bounds, lon_bounds = [ -23.9 , -23.67], [ 151.1 , 151.35 ]  # note that the range goes from small to large or you get nothing LOL\n",
                "data_Gladstone = data.sel(latitude=slice(*lat_bounds), longitude=slice(*lon_bounds))\n",
                "\n",
                "## 2012 data\n",
                "data_Gladstone_flooding_period = data_Gladstone.sel(time=slice('2012-01-01', '2012-12-31'))\n",
                "data_Gladstone_flooding_period.to_netcdf(\"baseline_data_Gladstone_flooding_period_6_parameters_2012.nc\")\n",
                "\n",
                "## 2013 data\n",
                "data_Gladstone_flooding_period = data_Gladstone.sel(time=slice('2013-01-01', '2013-12-31'))\n",
                "data_Gladstone_flooding_period.to_netcdf(\"baseline_data_Gladstone_flooding_period_6_parameters_2013.nc\")\n",
                "\n",
                "## 2014 data\n",
                "data_Gladstone_flooding_period = data_Gladstone.sel(time=slice('2014-01-01', '2014-12-31'))\n",
                "data_Gladstone_flooding_period.to_netcdf(\"baseline_data_Gladstone_flooding_period_6_parameters_2014.nc\")"
            ]
        },
        {
            "attachments": {},
            "cell_type": "markdown",
            "metadata": {},
            "source": [
                "**Preindustrial - Daily (2012-2014) - Gladstone**"
            ]
        },
        {
            "cell_type": "code",
            "execution_count": 21,
            "metadata": {},
            "outputs": [],
            "source": [
                "## for Site covering the Gladstone, Calliope River\n",
                "lat_bounds, lon_bounds = [ -23.9 , -23.67], [ 151.1 , 151.35 ]  # note that the range goes from small to large or you get nothing LOL\n",
                "preindustrial_data_Gladstone = preindustrial_data.sel(latitude=slice(*lat_bounds), longitude=slice(*lon_bounds))\n",
                "\n",
                "## 2012 data\n",
                "preindustrial_data_Gladstone_flooding_period = preindustrial_data_Gladstone.sel(time=slice('2012-01-01', '2012-12-31'))\n",
                "preindustrial_data_Gladstone_flooding_period.to_netcdf(\"preindustrial_data_Gladstone_flooding_period_6_parameters_2012.nc\")\n",
                "\n",
                "## 2013 data\n",
                "preindustrial_data_Gladstone_flooding_period = preindustrial_data_Gladstone.sel(time=slice('2013-01-01', '2013-12-31'))\n",
                "preindustrial_data_Gladstone_flooding_period.to_netcdf(\"preindustrial_data_Gladstone_flooding_period_6_parameters_2013.nc\")\n",
                "\n",
                "## 2014 data\n",
                "preindustrial_data_Gladstone_flooding_period = preindustrial_data_Gladstone.sel(time=slice('2014-01-01', '2014-12-31'))\n",
                "preindustrial_data_Gladstone_flooding_period.to_netcdf(\"preindustrial_data_Gladstone_flooding_period_6_parameters_2014.nc\")"
            ]
        },
        {
            "attachments": {},
            "cell_type": "markdown",
            "metadata": {},
            "source": [
                "---"
            ]
        },
        {
            "attachments": {},
            "cell_type": "markdown",
            "metadata": {},
            "source": [
                "**Baseline - Daily (2012-2014) - River Heads**"
            ]
        },
        {
            "cell_type": "code",
            "execution_count": 3,
            "metadata": {},
            "outputs": [],
            "source": [
                "## for Site covering the River Heads, Maryborough\n",
                "lat_bounds, lon_bounds = [ -25.53 , -25.23 ], [ 152.8 , 153 ]  # note that the range goes from small to large or you get nothing LOL\n",
                "data_River_Heads = data.sel(latitude=slice(*lat_bounds), longitude=slice(*lon_bounds))\n",
                "\n",
                "## 2012 data\n",
                "data_River_Heads_flooding_period = data_River_Heads.sel(time=slice('2012-01-01', '2012-12-31'))\n",
                "data_River_Heads_flooding_period.to_netcdf(\"baseline_data_River_Heads_flooding_period_6_parameters_2012.nc\")\n",
                "\n",
                "## 2013 data\n",
                "data_River_Heads_flooding_period = data_River_Heads.sel(time=slice('2013-01-01', '2013-12-31'))\n",
                "data_River_Heads_flooding_period.to_netcdf(\"baseline_data_River_Heads_flooding_period_6_parameters_2013.nc\")\n",
                "\n",
                "## 2014 data\n",
                "data_River_Heads_flooding_period = data_River_Heads.sel(time=slice('2014-01-01', '2014-12-31'))\n",
                "data_River_Heads_flooding_period.to_netcdf(\"baseline_data_River_Heads_flooding_period_6_parameters_2014.nc\")"
            ]
        },
        {
            "attachments": {},
            "cell_type": "markdown",
            "metadata": {},
            "source": [
                "**Preindustrial - Daily (2012-2014) - River Heads**"
            ]
        },
        {
            "cell_type": "code",
            "execution_count": 25,
            "metadata": {},
            "outputs": [],
            "source": [
                "## for Site covering the River Heads, Maryborough\n",
                "lat_bounds, lon_bounds = [ -25.53 , -25.23 ], [ 152.8 , 153 ]  # note that the range goes from small to large or you get nothing LOL\n",
                "preindustrial_data_River_Heads = preindustrial_data.sel(latitude=slice(*lat_bounds), longitude=slice(*lon_bounds))\n",
                "\n",
                "## 2012 data\n",
                "preindustrial_data_River_Heads_flooding_period = preindustrial_data_River_Heads.sel(time=slice('2012-01-01', '2012-12-31'))\n",
                "preindustrial_data_River_Heads_flooding_period.load().to_netcdf(\"preindustrial_data_River_Heads_flooding_period_6_parameters_2012.nc\")\n",
                "\n",
                "## 2013 data\n",
                "preindustrial_data_River_Heads_flooding_period = preindustrial_data_River_Heads.sel(time=slice('2013-01-01', '2013-12-31'))\n",
                "preindustrial_data_River_Heads_flooding_period.load().to_netcdf(\"preindustrial_data_River_Heads_flooding_period_6_parameters_2013.nc\")\n",
                "\n",
                "## 2014 data\n",
                "preindustrial_data_River_Heads_flooding_period = preindustrial_data_River_Heads.sel(time=slice('2014-01-01', '2014-12-31'))\n",
                "preindustrial_data_River_Heads_flooding_period.load().to_netcdf(\"preindustrial_data_River_Heads_flooding_period_6_parameters_2014.nc\")"
            ]
        },
        {
            "attachments": {},
            "cell_type": "markdown",
            "metadata": {},
            "source": [
                "___"
            ]
        }
    ]
}
